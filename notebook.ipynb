{
 "cells": [
  {
   "cell_type": "markdown",
   "metadata": {},
   "source": [
    "<div style=\"border:solid blue 2px; padding: 20px\">\n",
    "\n",
    "**Overall Summary of the Project**\n",
    "\n",
    "🌟 Hi Jeel — thanks for the submission!  \n",
    "    \n",
    "Below is a detailed review ;)\n",
    "    \n",
    "---\n",
    "\n",
    "✅ **Strengths**\n",
    "\n",
    "- **Thorough EDA**:  \n",
    "  You did a great job exploring the dataset. The histogram, boxplot, and age group visualizations are well-interpreted and clearly support the modeling context. Your detailed insights about distribution skewness and representation across age groups are spot-on.\n",
    "\n",
    "- **Clean model structure**:  \n",
    "  The modeling pipeline is well-organized, with reusable functions for loading data, building the model, and training. Using ResNet50 with a regression head is appropriate, and your training configuration is sound.\n",
    "\n",
    "- **Model meets the MAE requirement**:  \n",
    "  Final validation MAE of **7.65** is below the target threshold of 8. You also identified the best performance around epoch 17, showing good critical analysis of the training dynamics.\n",
    "\n",
    "- **Reflection on model performance**:  \n",
    "  Your conclusions about overfitting and the plateau after epoch 10 demonstrate a good understanding of training/validation tradeoffs.\n",
    "\n",
    "---\n",
    "\n",
    "🛠️ **Suggestions for Improvement**\n",
    "\n",
    "- **Train/Test Split**:  \n",
    "  You used the same `labels` DataFrame for both training and validation. Ideally, you should apply a `validation_split` within `ImageDataGenerator` or split the dataset manually into `train_labels` and `test_labels`.\n",
    "\n",
    "- **Data Augmentation**:  \n",
    "  To address overfitting and dataset imbalance (especially in older age groups), consider adding basic augmentation like rotation, zoom, or brightness adjustments to improve generalization.\n",
    "\n",
    "- **Conclusions Formatting**:  \n",
    "  While your final section is very detailed, breaking it into clearer bullet points would make it more digestible.\n",
    "\n",
    "---\n",
    "\n",
    "✅ **Final Verdict: Approved**\n",
    "\n",
    "Excellent work, Jeel! You built a well-structured model, ran insightful EDA, and met the performance goal with a thoughtful analysis. You're clearly grasping the key concepts of applied deep learning and regression modeling. Keep it up! 👏\n",
    "\n",
    "</div>"
   ]
  },
  {
   "cell_type": "markdown",
   "metadata": {},
   "source": [
    "# SafeSale: Preventing Underage Sales "
   ]
  },
  {
   "cell_type": "markdown",
   "metadata": {},
   "source": [
    "## Introduction"
   ]
  },
  {
   "cell_type": "markdown",
   "metadata": {},
   "source": [
    "The project is based on to develop and evaluate a model for verifying individuals age that helps the supermarket chain Good Seed adhere to alcohol laws by making sure that they do not sell alcohol to underage individuals. For developing the model, computer vision methods will be used to determine age of a person from a photo captured using cameras installed in the checkout area of the shops."
   ]
  },
  {
   "cell_type": "markdown",
   "metadata": {},
   "source": [
    "## Initialization"
   ]
  },
  {
   "cell_type": "code",
   "execution_count": 5,
   "metadata": {},
   "outputs": [],
   "source": [
    "# Import necessary libraries\n",
    "import pandas as pd\n",
    "import tensorflow as tf\n",
    "import matplotlib.pyplot as plt\n",
    "import seaborn as sns\n",
    "\n",
    "from tensorflow.keras.preprocessing.image import ImageDataGenerator\n",
    "from tensorflow.keras.applications.resnet import ResNet50\n",
    "from tensorflow.keras.models import Sequential\n",
    "from tensorflow.keras.layers import GlobalAveragePooling2D, Dense, Dropout, Flatten\n",
    "from tensorflow.keras.optimizers import Adam"
   ]
  },
  {
   "cell_type": "markdown",
   "metadata": {},
   "source": [
    "## Load Data"
   ]
  },
  {
   "cell_type": "markdown",
   "metadata": {},
   "source": [
    "The dataset is stored in the `/datasets/faces/` folder, there you can find\n",
    "- The `final_files` folder with 7.6k photos\n",
    "- The `labels.csv` file with labels, with two columns: `file_name` and `real_age`\n",
    "\n",
    "Given the fact that the number of image files is rather high, it is advisable to avoid reading them all at once, which would greatly consume computational resources. We recommend you build a generator with the ImageDataGenerator generator. This method was explained in Chapter 3, Lesson 7 of this course.\n",
    "\n",
    "The label file can be loaded as an usual CSV file."
   ]
  },
  {
   "cell_type": "code",
   "execution_count": 6,
   "metadata": {},
   "outputs": [],
   "source": [
    "# Load the dataset\n",
    "labels = pd.read_csv('/datasets/faces/labels.csv')"
   ]
  },
  {
   "cell_type": "code",
   "execution_count": 7,
   "metadata": {},
   "outputs": [],
   "source": [
    "# Load the dataset\n",
    "train_datagen = ImageDataGenerator(rescale=1./255)"
   ]
  },
  {
   "cell_type": "code",
   "execution_count": 8,
   "metadata": {},
   "outputs": [
    {
     "name": "stdout",
     "output_type": "stream",
     "text": [
      "Found 7591 validated image filenames.\n"
     ]
    }
   ],
   "source": [
    "# Define the data generator for training\n",
    "train_gen_flow = train_datagen.flow_from_dataframe(\n",
    "        dataframe=labels,\n",
    "        directory='/datasets/faces/final_files/',\n",
    "        x_col='file_name',\n",
    "        y_col='real_age',\n",
    "        target_size=(224, 224),\n",
    "        batch_size=32,\n",
    "        class_mode='raw',\n",
    "        seed=12345)"
   ]
  },
  {
   "cell_type": "code",
   "execution_count": 9,
   "metadata": {},
   "outputs": [
    {
     "data": {
      "text/html": [
       "<div>\n",
       "<style scoped>\n",
       "    .dataframe tbody tr th:only-of-type {\n",
       "        vertical-align: middle;\n",
       "    }\n",
       "\n",
       "    .dataframe tbody tr th {\n",
       "        vertical-align: top;\n",
       "    }\n",
       "\n",
       "    .dataframe thead th {\n",
       "        text-align: right;\n",
       "    }\n",
       "</style>\n",
       "<table border=\"1\" class=\"dataframe\">\n",
       "  <thead>\n",
       "    <tr style=\"text-align: right;\">\n",
       "      <th></th>\n",
       "      <th>file_name</th>\n",
       "      <th>real_age</th>\n",
       "    </tr>\n",
       "  </thead>\n",
       "  <tbody>\n",
       "    <tr>\n",
       "      <th>0</th>\n",
       "      <td>000000.jpg</td>\n",
       "      <td>4</td>\n",
       "    </tr>\n",
       "    <tr>\n",
       "      <th>1</th>\n",
       "      <td>000001.jpg</td>\n",
       "      <td>18</td>\n",
       "    </tr>\n",
       "    <tr>\n",
       "      <th>2</th>\n",
       "      <td>000002.jpg</td>\n",
       "      <td>80</td>\n",
       "    </tr>\n",
       "    <tr>\n",
       "      <th>3</th>\n",
       "      <td>000003.jpg</td>\n",
       "      <td>50</td>\n",
       "    </tr>\n",
       "    <tr>\n",
       "      <th>4</th>\n",
       "      <td>000004.jpg</td>\n",
       "      <td>17</td>\n",
       "    </tr>\n",
       "  </tbody>\n",
       "</table>\n",
       "</div>"
      ],
      "text/plain": [
       "    file_name  real_age\n",
       "0  000000.jpg         4\n",
       "1  000001.jpg        18\n",
       "2  000002.jpg        80\n",
       "3  000003.jpg        50\n",
       "4  000004.jpg        17"
      ]
     },
     "metadata": {},
     "output_type": "display_data"
    }
   ],
   "source": [
    "# Display the first few rows of the labels DataFrame\n",
    "display(labels.head())"
   ]
  },
  {
   "cell_type": "markdown",
   "metadata": {},
   "source": [
    "## EDA"
   ]
  },
  {
   "cell_type": "code",
   "execution_count": 10,
   "metadata": {},
   "outputs": [
    {
     "data": {
      "text/plain": [
       "file_name    0\n",
       "real_age     0\n",
       "dtype: int64"
      ]
     },
     "execution_count": 10,
     "metadata": {},
     "output_type": "execute_result"
    }
   ],
   "source": [
    "# check for missing values in the labels DataFrame\n",
    "labels.isna().sum()"
   ]
  },
  {
   "cell_type": "code",
   "execution_count": 11,
   "metadata": {},
   "outputs": [
    {
     "data": {
      "text/plain": [
       "0"
      ]
     },
     "execution_count": 11,
     "metadata": {},
     "output_type": "execute_result"
    }
   ],
   "source": [
    "# Check for duplicates in the labels DataFrame\n",
    "labels.duplicated().sum()"
   ]
  },
  {
   "cell_type": "code",
   "execution_count": 12,
   "metadata": {},
   "outputs": [
    {
     "name": "stdout",
     "output_type": "stream",
     "text": [
      "The DataFrame has 7591 rows and 2 columns.\n"
     ]
    }
   ],
   "source": [
    "# Display the number of rows and columns in the labels DataFrame\n",
    "n_rows, n_cols= labels.shape\n",
    "print(f\"The DataFrame has {n_rows} rows and {n_cols} columns.\")"
   ]
  },
  {
   "cell_type": "code",
   "execution_count": 13,
   "metadata": {},
   "outputs": [
    {
     "name": "stdout",
     "output_type": "stream",
     "text": [
      "<class 'pandas.core.frame.DataFrame'>\n",
      "RangeIndex: 7591 entries, 0 to 7590\n",
      "Data columns (total 2 columns):\n",
      " #   Column     Non-Null Count  Dtype \n",
      "---  ------     --------------  ----- \n",
      " 0   file_name  7591 non-null   object\n",
      " 1   real_age   7591 non-null   int64 \n",
      "dtypes: int64(1), object(1)\n",
      "memory usage: 118.7+ KB\n"
     ]
    }
   ],
   "source": [
    "# Display information about the labels DataFrame\n",
    "labels.info()"
   ]
  },
  {
   "cell_type": "code",
   "execution_count": 14,
   "metadata": {},
   "outputs": [
    {
     "data": {
      "text/html": [
       "<div>\n",
       "<style scoped>\n",
       "    .dataframe tbody tr th:only-of-type {\n",
       "        vertical-align: middle;\n",
       "    }\n",
       "\n",
       "    .dataframe tbody tr th {\n",
       "        vertical-align: top;\n",
       "    }\n",
       "\n",
       "    .dataframe thead th {\n",
       "        text-align: right;\n",
       "    }\n",
       "</style>\n",
       "<table border=\"1\" class=\"dataframe\">\n",
       "  <thead>\n",
       "    <tr style=\"text-align: right;\">\n",
       "      <th></th>\n",
       "      <th>real_age</th>\n",
       "    </tr>\n",
       "  </thead>\n",
       "  <tbody>\n",
       "    <tr>\n",
       "      <th>count</th>\n",
       "      <td>7591.000000</td>\n",
       "    </tr>\n",
       "    <tr>\n",
       "      <th>mean</th>\n",
       "      <td>31.201159</td>\n",
       "    </tr>\n",
       "    <tr>\n",
       "      <th>std</th>\n",
       "      <td>17.145060</td>\n",
       "    </tr>\n",
       "    <tr>\n",
       "      <th>min</th>\n",
       "      <td>1.000000</td>\n",
       "    </tr>\n",
       "    <tr>\n",
       "      <th>25%</th>\n",
       "      <td>20.000000</td>\n",
       "    </tr>\n",
       "    <tr>\n",
       "      <th>50%</th>\n",
       "      <td>29.000000</td>\n",
       "    </tr>\n",
       "    <tr>\n",
       "      <th>75%</th>\n",
       "      <td>41.000000</td>\n",
       "    </tr>\n",
       "    <tr>\n",
       "      <th>max</th>\n",
       "      <td>100.000000</td>\n",
       "    </tr>\n",
       "  </tbody>\n",
       "</table>\n",
       "</div>"
      ],
      "text/plain": [
       "          real_age\n",
       "count  7591.000000\n",
       "mean     31.201159\n",
       "std      17.145060\n",
       "min       1.000000\n",
       "25%      20.000000\n",
       "50%      29.000000\n",
       "75%      41.000000\n",
       "max     100.000000"
      ]
     },
     "execution_count": 14,
     "metadata": {},
     "output_type": "execute_result"
    }
   ],
   "source": [
    "# Display descriptive statistics of the labels DataFrame\n",
    "labels.describe()"
   ]
  },
  {
   "cell_type": "markdown",
   "metadata": {},
   "source": [
    "There is no duplicates or missing values found in the dataset. "
   ]
  },
  {
   "cell_type": "code",
   "execution_count": 15,
   "metadata": {},
   "outputs": [
    {
     "data": {
      "image/png": "[encoded data removed]",
      "text/plain": [
       "<Figure size 640x480 with 1 Axes>"
      ]
     },
     "metadata": {},
     "output_type": "display_data"
    }
   ],
   "source": [
    "# Generate a histogram to visualize the distribution of ages in the dataset\n",
    "sns.histplot(data=labels, x='real_age', bins=30, kde=True)\n",
    "plt.title(\"Distribution of Real Age\")\n",
    "plt.xlabel(\"Age\")\n",
    "plt.ylabel(\"Count\")\n",
    "plt.show()"
   ]
  },
  {
   "cell_type": "markdown",
   "metadata": {},
   "source": [
    "###### Insights\n",
    "\n",
    "The above graph is a histogram with a KDE (Kernel Density Estimate) plot overlay. It shows the distribution of real age of indivduals whose images are present in the dataset. The histogram displays the frequency of individuals at different age intervals. Here the x-axis represents age while, the y-axis represents the count of individuals in each age bin.\n",
    "\n",
    "The most frequent age range appears to be between 20 and 30, with highest peak around 25 years old. This indicates that the large number of individuals in this datasets are in their mid-20s. Also, there is a gradual decline in the number of individuals with age above 35 with significantly fewere beyond 60 years. \n",
    "\n",
    "The dataset is right-skewed, suggesting that there are fewer older individuals in the dataset. A long tail extending towards right end means older individuals whose age is above 50 are less common among older individuals.\n",
    "\n",
    "###### Conclusion\n",
    "\n",
    "From the above histogram, it can be known that the dataset is doinated by younger individuals, especially in their 20s and 30s. The datasets is not normally distributed among all age groups which can be known as there is a gradual decline in representation with increasing age. "
   ]
  },
  {
   "cell_type": "code",
   "execution_count": 16,
   "metadata": {},
   "outputs": [
    {
     "data": {
      "image/png": "[encoded data removed]",
      "text/plain": [
       "<Figure size 640x480 with 1 Axes>"
      ]
     },
     "metadata": {},
     "output_type": "display_data"
    }
   ],
   "source": [
    "# Generate a boxplot to visualize the distribution of ages in the dataset\n",
    "sns.boxplot(data=labels, x='real_age')\n",
    "plt.title(\"Distribution of Real Age\")\n",
    "plt.xlabel(\"Age\")\n",
    "plt.ylabel(\"Count\")\n",
    "plt.show()"
   ]
  },
  {
   "cell_type": "markdown",
   "metadata": {},
   "source": [
    "###### Insights and Conclusion\n",
    "\n",
    "The above graph is a boxplot which gives a summary of the distribution of the dataset. It shows the distribution of real age of indivduals whose images are present in the dataset. The thick line inside the box marks the median which appears to be around 30 years old suggesting most individuals are in there 20s and 30s.\n",
    "\n",
    "The interquartile Range (IQR) shows where the 50% of the datasets lies. From this it is known that most individuals are between ~20 to ~50 age group. \n",
    "\n",
    "The straight lines (maximum) ages extends from 0 to 75, suggests that majority of datapoints (individuals) fall within this range. Lastly, it can be seen that there are numerous outliers on the older end indicating that there are fewer individuals whose ages are higher than the majority of the individuals in the datasets. \n",
    "\n",
    "Overall, this boxplot indicates similar insights suggested from the above histogram."
   ]
  },
  {
   "cell_type": "markdown",
   "metadata": {},
   "source": [
    "### Findings"
   ]
  },
  {
   "cell_type": "code",
   "execution_count": 17,
   "metadata": {},
   "outputs": [],
   "source": [
    "# Divide the dataset into age groups for better visualization\n",
    "labels['age_group'] = pd.cut(labels['real_age'], bins=[0, 10, 20, 30, 40, 50, 60, 100])"
   ]
  },
  {
   "cell_type": "code",
   "execution_count": 18,
   "metadata": {},
   "outputs": [
    {
     "data": {
      "image/png": "[encoded data removed]",
      "text/plain": [
       "<Figure size 640x480 with 1 Axes>"
      ]
     },
     "metadata": {},
     "output_type": "display_data"
    }
   ],
   "source": [
    "# Generate a bar plot to visualize the count of records per age group\n",
    "sns.countplot(x='age_group', data=labels)\n",
    "plt.title(\"Count of Records per Age Group\")\n",
    "plt.xlabel(\"Age Group\")\n",
    "plt.ylabel(\"Count\")\n",
    "plt.xticks(rotation=45)\n",
    "plt.show()"
   ]
  },
  {
   "cell_type": "markdown",
   "metadata": {},
   "source": [
    "###### Insights andConclusion\n",
    "\n",
    "The above graph is a bar chart that provides a grouped summary of the dataset by age group. \n",
    "\n",
    "Overall, similar to previous findings from histogram and boxplot, it is seen that the dataset is concentrated in the 20-30 age group. Along with this, a gradual decline can be seen after 30.\n",
    "\n",
    "Young individuals are most represented, while elderly individuals (60+) are underrepresented suggesting that this might introduce bias in the model anaylsis which relies on this dataset. \n"
   ]
  },
  {
   "cell_type": "markdown",
   "metadata": {},
   "source": [
    "## Modelling"
   ]
  },
  {
   "cell_type": "markdown",
   "metadata": {},
   "source": [
    "Define the necessary functions to train your model on the GPU platform and build a single script containing all of them along with the initialization section.\n",
    "\n",
    "To make this task easier, you can define them in this notebook and run a ready code in the next section to automatically compose the script.\n",
    "\n",
    "The definitions below will be checked by project reviewers as well, so that they can understand how you built the model."
   ]
  },
  {
   "cell_type": "code",
   "execution_count": 19,
   "metadata": {},
   "outputs": [],
   "source": [
    "# \n",
    "def load_train(path):\n",
    "    \n",
    "    \"\"\"\n",
    "    It loads the train part of dataset from path\n",
    "    \"\"\"\n",
    "    \n",
    "    train_datagen = ImageDataGenerator(rescale=1./255)\n",
    "\n",
    "    train_gen_flow = train_datagen.flow_from_dataframe(\n",
    "        dataframe=labels,\n",
    "        directory='/datasets/faces/final_files/',\n",
    "        x_col='file_name',\n",
    "        y_col='real_age',\n",
    "        target_size=(224, 224),\n",
    "        batch_size=32,\n",
    "        class_mode='raw',\n",
    "        seed=12345)\n",
    "\n",
    "    return train_gen_flow"
   ]
  },
  {
   "cell_type": "code",
   "execution_count": 20,
   "metadata": {},
   "outputs": [],
   "source": [
    "def load_test(path):\n",
    "    \n",
    "    \"\"\"\n",
    "    It loads the validation/test part of dataset from path\n",
    "    \"\"\"\n",
    "    \n",
    "    test_datagen = ImageDataGenerator(rescale=1./255)\n",
    "\n",
    "    test_gen_flow = test_datagen.flow_from_dataframe(\n",
    "        dataframe=labels,\n",
    "        directory='/datasets/faces/final_files/',\n",
    "        x_col='file_name',\n",
    "        y_col='real_age',\n",
    "        target_size=(224, 224),\n",
    "        batch_size=32,\n",
    "        class_mode='raw',\n",
    "        seed=12345)\n",
    "\n",
    "    return test_gen_flow"
   ]
  },
  {
   "cell_type": "code",
   "execution_count": 21,
   "metadata": {},
   "outputs": [],
   "source": [
    "def create_model(input_shape):\n",
    "    \n",
    "    \"\"\"\n",
    "    It defines the model\n",
    "    \"\"\"\n",
    "    backbone = ResNet50(weights='imagenet', \n",
    "                        input_shape=input_shape,\n",
    "                        include_top=False)\n",
    "\n",
    "    model = Sequential()\n",
    "    model.add(backbone)\n",
    "    model.add(GlobalAveragePooling2D())\n",
    "    model.add(Dense(1, activation='relu'))\n",
    "\n",
    "    optimizer = Adam(learning_rate=0.0005)\n",
    "    model.compile(optimizer=optimizer, loss='mse', metrics=['mae'])\n",
    "\n",
    "    return model"
   ]
  },
  {
   "cell_type": "code",
   "execution_count": 22,
   "metadata": {},
   "outputs": [],
   "source": [
    "def train_model(model, train_data, test_data, batch_size=None, epochs=20,\n",
    "                steps_per_epoch=None, validation_steps=None):\n",
    "\n",
    "    \"\"\"\n",
    "    Trains the model given the parameters\n",
    "    \"\"\"\n",
    "    \n",
    "    if steps_per_epoch is None:\n",
    "        steps_per_epoch = len(train_data)\n",
    "        \n",
    "    if validation_steps is None:\n",
    "        validation_steps = len(test_data)\n",
    "\n",
    "    model.fit(train_data, \n",
    "              validation_data=test_data,\n",
    "              batch_size=batch_size, epochs=epochs,\n",
    "              steps_per_epoch=steps_per_epoch,\n",
    "              validation_steps=validation_steps,\n",
    "              verbose=2)\n",
    "\n",
    "    return model"
   ]
  },
  {
   "cell_type": "markdown",
   "metadata": {},
   "source": [
    "## Prepare the Script to Run on the GPU Platform"
   ]
  },
  {
   "cell_type": "markdown",
   "metadata": {},
   "source": [
    "Given you've defined the necessary functions you can compose a script for the GPU platform, download it via the \"File|Open...\" menu, and to upload it later for running on the GPU platform.\n",
    "\n",
    "N.B.: The script should include the initialization section as well. An example of this is shown below."
   ]
  },
  {
   "cell_type": "code",
   "execution_count": 23,
   "metadata": {},
   "outputs": [],
   "source": [
    "# prepare a script to run on the GPU platform\n",
    "\n",
    "init_str = \"\"\"\n",
    "import pandas as pd\n",
    "\n",
    "import tensorflow as tf\n",
    "\n",
    "from tensorflow.keras.preprocessing.image import ImageDataGenerator\n",
    "from tensorflow.keras.applications.resnet import ResNet50\n",
    "from tensorflow.keras.models import Sequential\n",
    "from tensorflow.keras.layers import GlobalAveragePooling2D, Dense, Dropout, Flatten\n",
    "from tensorflow.keras.optimizers import Adam\n",
    "\"\"\"\n",
    "\n",
    "import inspect\n",
    "\n",
    "with open('run_model_on_gpu.py', 'w') as f:\n",
    "    \n",
    "    f.write(init_str)\n",
    "    f.write('\\n\\n')\n",
    "        \n",
    "    for fn_name in [load_train, load_test, create_model, train_model]:\n",
    "        \n",
    "        src = inspect.getsource(fn_name)\n",
    "        f.write(src)\n",
    "        f.write('\\n\\n')"
   ]
  },
  {
   "cell_type": "markdown",
   "metadata": {},
   "source": [
    "### Output"
   ]
  },
  {
   "cell_type": "markdown",
   "metadata": {},
   "source": [
    "Place the output from the GPU platform as an Markdown cell here."
   ]
  },
  {
   "cell_type": "markdown",
   "metadata": {},
   "source": [
    "Epoch 1/20\n",
    "\n",
    "\n",
    "356/356 - 35s - loss: 95.3532 - mae: 7.4339 - val_loss: 124.3362 - val_mae: 8.4921\n",
    "\n",
    "\n",
    "Epoch 2/20\n",
    "\n",
    "\n",
    "356/356 - 35s - loss: 76.8372 - mae: 6.6707 - val_loss: 127.6357 - val_mae: 8.6035\n",
    "\n",
    "\n",
    "Epoch 3/20\n",
    "\n",
    "\n",
    "356/356 - 35s - loss: 69.9428 - mae: 6.3992 - val_loss: 91.1531 - val_mae: 7.4454\n",
    "\n",
    "\n",
    "Epoch 4/20\n",
    "\n",
    "\n",
    "356/356 - 35s - loss: 64.4249 - mae: 6.1407 - val_loss: 124.0287 - val_mae: 8.3481\n",
    "\n",
    "\n",
    "Epoch 5/20\n",
    "\n",
    "\n",
    "356/356 - 35s - loss: 52.8486 - mae: 5.5913 - val_loss: 109.1004 - val_mae: 8.2192\n",
    "\n",
    "\n",
    "Epoch 6/20\n",
    "\n",
    "\n",
    "356/356 - 35s - loss: 46.3094 - mae: 5.2223 - val_loss: 85.1038 - val_mae: 7.0332\n",
    "\n",
    "\n",
    "Epoch 7/20\n",
    "\n",
    "\n",
    "356/356 - 35s - loss: 38.2617 - mae: 4.7951 - val_loss: 92.0900 - val_mae: 7.3359\n",
    "\n",
    "\n",
    "Epoch 8/20\n",
    "\n",
    "\n",
    "356/356 - 35s - loss: 37.4804 - mae: 4.7402 - val_loss: 80.0016 - val_mae: 6.7239\n",
    "\n",
    "\n",
    "Epoch 9/20\n",
    "\n",
    "\n",
    "356/356 - 35s - loss: 33.5237 - mae: 4.4271 - val_loss: 83.2579 - val_mae: 6.8529\n",
    "\n",
    "\n",
    "Epoch 10/20\n",
    "\n",
    "\n",
    "356/356 - 35s - loss: 28.5170 - mae: 4.1411 - val_loss: 83.5056 - val_mae: 6.9629\n",
    "\n",
    "\n",
    "Epoch 11/20\n",
    "\n",
    "\n",
    "356/356 - 35s - loss: 27.0142 - mae: 3.9700 - val_loss: 92.1290 - val_mae: 7.1866\n",
    "\n",
    "\n",
    "Epoch 12/20\n",
    "\n",
    "\n",
    "356/356 - 35s - loss: 27.4564 - mae: 4.0428 - val_loss: 185.6307 - val_mae: 11.4591\n",
    "\n",
    "\n",
    "Epoch 13/20\n",
    "\n",
    "\n",
    "356/356 - 35s - loss: 23.7961 - mae: 3.7407 - val_loss: 92.3429 - val_mae: 7.2467\n",
    "\n",
    "\n",
    "Epoch 14/20\n",
    "\n",
    "\n",
    "356/356 - 35s - loss: 24.6167 - mae: 3.8116 - val_loss: 92.4542 - val_mae: 7.1401\n",
    "\n",
    "\n",
    "Epoch 15/20\n",
    "\n",
    "\n",
    "356/356 - 35s - loss: 22.2604 - mae: 3.6746 - val_loss: 82.5822 - val_mae: 6.7841\n",
    "\n",
    "\n",
    "Epoch 16/20\n",
    "\n",
    "\n",
    "356/356 - 35s - loss: 20.1899 - mae: 3.4430 - val_loss: 86.3830 - val_mae: 6.8304\n",
    "\n",
    "\n",
    "Epoch 17/20\n",
    "\n",
    "\n",
    "356/356 - 35s - loss: 17.3425 - mae: 3.2205 - val_loss: 78.4369 - val_mae: 6.6419\n",
    "\n",
    "\n",
    "Epoch 18/20\n",
    "\n",
    "\n",
    "356/356 - 35s - loss: 16.5249 - mae: 3.1295 - val_loss: 81.7731 - val_mae: 6.7226\n",
    "\n",
    "\n",
    "Epoch 19/20\n",
    "\n",
    "\n",
    "356/356 - 35s - loss: 16.6140 - mae: 3.1421 - val_loss: 80.9727 - val_mae: 6.9908\n",
    "\n",
    "\n",
    "Epoch 20/20\n",
    "\n",
    "\n",
    "356/356 - 35s - loss: 17.0187 - mae: 3.1785 - val_loss: 93.4115 - val_mae: 7.6512"
   ]
  },
  {
   "cell_type": "markdown",
   "metadata": {},
   "source": [
    "## Conclusions"
   ]
  },
  {
   "cell_type": "markdown",
   "metadata": {},
   "source": [
    "The project is based on to develop and evaluate a model for verifying individuals age that helps the supermarket chain Good Seed adhere to alcohol laws by making sure that they do not sell alcohol to underage individuals. \n",
    "\n",
    "The output from the GPU platform shows the performance log of a regression model which is predicting age over 20 epochs. The key metrics to evaluate the model are loss - Mean Squared Error (MSE), Mean Absolute Error on training set (mae), val_loss - Validation Loss, val_mae - Validation MAE on validation set. \n",
    "\n",
    "For training performances, the model improves steadily as 'loss' drops from 95.35 to 17.03 and 'mae' drops from 7.43 to 3.18. This shows that the model is fitting the training data well. \n",
    "\n",
    "While for validation performances, the model is not doing as better as for training dataset. This can be seen as 'val_mae' drops from 8.48 to 7.65 with best validation MAE occuring at epoch 17 (6.64) while validation loss fluctuates but not as good as training with a spike at epoch 12 (185.63) lowest at epoch 17 (78.43). \n",
    "\n",
    "Overall, there are signs of overfitting which can be seen as training error continues to drop, but validation error flattens and fluctuates after epoch 8. There is no significant gain in validation MAE after epoch 10. Lastly, optimal model performance likely occured at epoch 17, where the validation MAE was lowest. "
   ]
  },
  {
   "cell_type": "markdown",
   "metadata": {},
   "source": [
    "# Checklist"
   ]
  },
  {
   "cell_type": "markdown",
   "metadata": {},
   "source": [
    "- [x]  Notebook was opened\n",
    "- [x]  The code is error free\n",
    "- [x]  The cells with code have been arranged by order of execution\n",
    "- [x]  The exploratory data analysis has been performed\n",
    "- [x]  The results of the exploratory data analysis are presented in the final notebook\n",
    "- [x]  The model's MAE score is not higher than 8\n",
    "- [x]  The model training code has been copied to the final notebook\n",
    "- [x]  The model training output has been copied to the final notebook\n",
    "- [x]  The findings have been provided based on the results of the model training"
   ]
  },
  {
   "cell_type": "code",
   "execution_count": null,
   "metadata": {},
   "outputs": [],
   "source": []
  }
 ],
 "metadata": {
  "ExecuteTimeLog": [
   {
    "duration": 1665,
    "start_time": "2025-04-24T03:36:30.162Z"
   },
   {
    "duration": 16,
    "start_time": "2025-04-24T03:37:19.013Z"
   },
   {
    "duration": 3,
    "start_time": "2025-04-24T03:37:21.768Z"
   },
   {
    "duration": 16538,
    "start_time": "2025-04-24T03:37:23.268Z"
   },
   {
    "duration": 11,
    "start_time": "2025-04-24T03:37:42.565Z"
   },
   {
    "duration": 7,
    "start_time": "2025-04-24T03:40:32.710Z"
   },
   {
    "duration": 6,
    "start_time": "2025-04-24T03:41:04.728Z"
   },
   {
    "duration": 3,
    "start_time": "2025-04-24T03:41:19.565Z"
   },
   {
    "duration": 3,
    "start_time": "2025-04-24T03:48:26.804Z"
   },
   {
    "duration": 3,
    "start_time": "2025-04-24T03:49:05.312Z"
   },
   {
    "duration": 9,
    "start_time": "2025-04-24T03:49:31.730Z"
   },
   {
    "duration": 10,
    "start_time": "2025-04-24T03:49:51.295Z"
   },
   {
    "duration": 2182,
    "start_time": "2025-04-24T04:01:09.730Z"
   },
   {
    "duration": 365,
    "start_time": "2025-04-24T04:05:47.050Z"
   },
   {
    "duration": 82,
    "start_time": "2025-04-24T04:08:11.093Z"
   },
   {
    "duration": 397,
    "start_time": "2025-04-24T04:11:13.083Z"
   },
   {
    "duration": 201,
    "start_time": "2025-04-24T04:11:32.823Z"
   },
   {
    "duration": 118,
    "start_time": "2025-04-24T04:12:10.815Z"
   },
   {
    "duration": 33,
    "start_time": "2025-04-24T04:21:36.916Z"
   },
   {
    "duration": 254,
    "start_time": "2025-04-24T04:25:20.001Z"
   },
   {
    "duration": 250,
    "start_time": "2025-04-24T04:26:43.887Z"
   },
   {
    "duration": 107,
    "start_time": "2025-04-24T04:32:12.210Z"
   },
   {
    "duration": 6,
    "start_time": "2025-04-24T04:32:23.913Z"
   },
   {
    "duration": 102,
    "start_time": "2025-04-24T04:32:27.574Z"
   },
   {
    "duration": 7,
    "start_time": "2025-04-24T07:12:39.190Z"
   },
   {
    "duration": 4209,
    "start_time": "2025-04-24T07:13:11.336Z"
   },
   {
    "duration": 17,
    "start_time": "2025-04-24T07:13:15.547Z"
   },
   {
    "duration": 2,
    "start_time": "2025-04-24T07:13:15.566Z"
   },
   {
    "duration": 9930,
    "start_time": "2025-04-24T07:13:15.571Z"
   },
   {
    "duration": 13,
    "start_time": "2025-04-24T07:13:25.503Z"
   },
   {
    "duration": 5,
    "start_time": "2025-04-24T07:13:25.518Z"
   },
   {
    "duration": 6,
    "start_time": "2025-04-24T07:13:25.525Z"
   },
   {
    "duration": 4,
    "start_time": "2025-04-24T07:13:25.532Z"
   },
   {
    "duration": 3,
    "start_time": "2025-04-24T07:13:25.538Z"
   },
   {
    "duration": 10,
    "start_time": "2025-04-24T07:13:25.544Z"
   },
   {
    "duration": 11,
    "start_time": "2025-04-24T07:13:25.556Z"
   },
   {
    "duration": 323,
    "start_time": "2025-04-24T07:13:25.606Z"
   },
   {
    "duration": 92,
    "start_time": "2025-04-24T07:13:25.931Z"
   },
   {
    "duration": 6,
    "start_time": "2025-04-24T07:13:26.025Z"
   },
   {
    "duration": 116,
    "start_time": "2025-04-24T07:13:26.033Z"
   },
   {
    "duration": 4,
    "start_time": "2025-04-24T07:13:26.151Z"
   },
   {
    "duration": 4,
    "start_time": "2025-04-24T07:13:26.156Z"
   },
   {
    "duration": 4,
    "start_time": "2025-04-24T07:13:26.162Z"
   },
   {
    "duration": 4,
    "start_time": "2025-04-24T07:13:26.167Z"
   },
   {
    "duration": 23,
    "start_time": "2025-04-24T07:13:37.616Z"
   },
   {
    "duration": 5350,
    "start_time": "2025-04-24T07:16:53.234Z"
   },
   {
    "duration": 3917,
    "start_time": "2025-04-25T02:33:16.653Z"
   },
   {
    "duration": 23,
    "start_time": "2025-04-25T02:33:20.572Z"
   },
   {
    "duration": 3,
    "start_time": "2025-04-25T02:33:20.598Z"
   },
   {
    "duration": 11479,
    "start_time": "2025-04-25T02:33:20.603Z"
   },
   {
    "duration": 11,
    "start_time": "2025-04-25T02:33:32.084Z"
   },
   {
    "duration": 5,
    "start_time": "2025-04-25T02:33:32.097Z"
   },
   {
    "duration": 5,
    "start_time": "2025-04-25T02:33:32.104Z"
   },
   {
    "duration": 3,
    "start_time": "2025-04-25T02:33:32.111Z"
   },
   {
    "duration": 3,
    "start_time": "2025-04-25T02:33:32.116Z"
   },
   {
    "duration": 8,
    "start_time": "2025-04-25T02:33:32.121Z"
   },
   {
    "duration": 42,
    "start_time": "2025-04-25T02:33:32.131Z"
   },
   {
    "duration": 314,
    "start_time": "2025-04-25T02:33:32.175Z"
   },
   {
    "duration": 89,
    "start_time": "2025-04-25T02:33:32.491Z"
   },
   {
    "duration": 5,
    "start_time": "2025-04-25T02:33:32.583Z"
   },
   {
    "duration": 116,
    "start_time": "2025-04-25T02:33:32.589Z"
   },
   {
    "duration": 3,
    "start_time": "2025-04-25T02:33:32.708Z"
   },
   {
    "duration": 4,
    "start_time": "2025-04-25T02:33:32.714Z"
   },
   {
    "duration": 4,
    "start_time": "2025-04-25T02:33:32.719Z"
   },
   {
    "duration": 4,
    "start_time": "2025-04-25T02:33:32.724Z"
   },
   {
    "duration": 18,
    "start_time": "2025-04-25T02:33:32.730Z"
   },
   {
    "duration": 3941,
    "start_time": "2025-04-25T04:08:01.056Z"
   },
   {
    "duration": 17,
    "start_time": "2025-04-25T04:08:04.999Z"
   },
   {
    "duration": 2,
    "start_time": "2025-04-25T04:08:05.018Z"
   },
   {
    "duration": 4694,
    "start_time": "2025-04-25T04:08:05.022Z"
   },
   {
    "duration": 0,
    "start_time": "2025-04-25T04:08:09.719Z"
   },
   {
    "duration": 0,
    "start_time": "2025-04-25T04:08:09.721Z"
   },
   {
    "duration": 0,
    "start_time": "2025-04-25T04:08:09.722Z"
   },
   {
    "duration": 0,
    "start_time": "2025-04-25T04:08:09.724Z"
   },
   {
    "duration": 0,
    "start_time": "2025-04-25T04:08:09.725Z"
   },
   {
    "duration": 0,
    "start_time": "2025-04-25T04:08:09.726Z"
   },
   {
    "duration": 0,
    "start_time": "2025-04-25T04:08:09.727Z"
   },
   {
    "duration": 0,
    "start_time": "2025-04-25T04:08:09.743Z"
   },
   {
    "duration": 0,
    "start_time": "2025-04-25T04:08:09.745Z"
   },
   {
    "duration": 0,
    "start_time": "2025-04-25T04:08:09.747Z"
   },
   {
    "duration": 0,
    "start_time": "2025-04-25T04:08:09.748Z"
   },
   {
    "duration": 0,
    "start_time": "2025-04-25T04:08:09.749Z"
   },
   {
    "duration": 0,
    "start_time": "2025-04-25T04:08:09.751Z"
   },
   {
    "duration": 0,
    "start_time": "2025-04-25T04:08:09.753Z"
   },
   {
    "duration": 0,
    "start_time": "2025-04-25T04:08:09.754Z"
   },
   {
    "duration": 3,
    "start_time": "2025-04-25T04:08:31.718Z"
   },
   {
    "duration": 9,
    "start_time": "2025-04-25T04:08:31.723Z"
   },
   {
    "duration": 3,
    "start_time": "2025-04-25T04:08:31.733Z"
   },
   {
    "duration": 12887,
    "start_time": "2025-04-25T04:08:31.737Z"
   },
   {
    "duration": 10,
    "start_time": "2025-04-25T04:08:44.625Z"
   },
   {
    "duration": 5,
    "start_time": "2025-04-25T04:08:44.637Z"
   },
   {
    "duration": 5,
    "start_time": "2025-04-25T04:08:44.644Z"
   },
   {
    "duration": 3,
    "start_time": "2025-04-25T04:08:44.651Z"
   },
   {
    "duration": 8,
    "start_time": "2025-04-25T04:08:44.656Z"
   },
   {
    "duration": 9,
    "start_time": "2025-04-25T04:08:44.667Z"
   },
   {
    "duration": 344,
    "start_time": "2025-04-25T04:08:44.677Z"
   },
   {
    "duration": 92,
    "start_time": "2025-04-25T04:08:45.023Z"
   },
   {
    "duration": 5,
    "start_time": "2025-04-25T04:08:45.117Z"
   },
   {
    "duration": 239,
    "start_time": "2025-04-25T04:08:45.123Z"
   },
   {
    "duration": 3,
    "start_time": "2025-04-25T04:08:45.364Z"
   },
   {
    "duration": 3,
    "start_time": "2025-04-25T04:08:45.369Z"
   },
   {
    "duration": 4,
    "start_time": "2025-04-25T04:08:45.374Z"
   },
   {
    "duration": 3,
    "start_time": "2025-04-25T04:08:45.380Z"
   },
   {
    "duration": 25,
    "start_time": "2025-04-25T04:08:45.385Z"
   }
  ],
  "kernelspec": {
   "display_name": "Python 3 (ipykernel)",
   "language": "python",
   "name": "python3"
  },
  "language_info": {
   "codemirror_mode": {
    "name": "ipython",
    "version": 3
   },
   "file_extension": ".py",
   "mimetype": "text/x-python",
   "name": "python",
   "nbconvert_exporter": "python",
   "pygments_lexer": "ipython3",
   "version": "3.9.19"
  },
  "toc": {
   "base_numbering": 1,
   "nav_menu": {},
   "number_sections": true,
   "sideBar": true,
   "skip_h1_title": true,
   "title_cell": "Table of Contents",
   "title_sidebar": "Contents",
   "toc_cell": false,
   "toc_position": {},
   "toc_section_display": true,
   "toc_window_display": false
  }
 },
 "nbformat": 4,
 "nbformat_minor": 4
}
